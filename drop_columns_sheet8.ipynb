{
 "cells": [
  {
   "cell_type": "code",
   "execution_count": 13,
   "id": "a4f2152e",
   "metadata": {},
   "outputs": [
    {
     "name": "stderr",
     "output_type": "stream",
     "text": [
      "c:\\Users\\fursew\\AppData\\Local\\Programs\\Python\\Python311\\Lib\\site-packages\\tqdm\\auto.py:21: TqdmWarning: IProgress not found. Please update jupyter and ipywidgets. See https://ipywidgets.readthedocs.io/en/stable/user_install.html\n",
      "  from .autonotebook import tqdm as notebook_tqdm\n"
     ]
    },
    {
     "data": {
      "text/html": [
       "\n",
       "            <div>\n",
       "                <ins><a href=\"https://ydata.ai/register\">Upgrade to ydata-sdk</a></ins>\n",
       "                <p>\n",
       "                    Improve your data and profiling with ydata-sdk, featuring data quality scoring, redundancy detection, outlier identification, text validation, and synthetic data generation.\n",
       "                </p>\n",
       "            </div>\n",
       "            "
      ],
      "text/plain": [
       "<IPython.core.display.HTML object>"
      ]
     },
     "metadata": {},
     "output_type": "display_data"
    }
   ],
   "source": [
    "import pandas as pd\n",
    "import ydata_profiling"
   ]
  },
  {
   "cell_type": "code",
   "execution_count": 3,
   "id": "8529cb0f",
   "metadata": {},
   "outputs": [],
   "source": [
    "train_df = pd.read_csv('train/train_성과정보.csv')\n",
    "test_df = pd.read_csv('test/test_성과정보.csv')"
   ]
  },
  {
   "cell_type": "code",
   "execution_count": null,
   "id": "6b692981",
   "metadata": {},
   "outputs": [],
   "source": [
    "# 합친 컬럼 만들기(train)\n",
    "train_df['증감율_이용건수_신용_분기'] = \\\n",
    "    train_df['증감율_이용건수_신판_분기']+train_df['증감율_이용건수_CA_분기']+\\\n",
    "    train_df['증감율_이용건수_카드론_분기']\n",
    "train_df['증감율_이용금액_신용_분기'] = \\\n",
    "    train_df['증감율_이용금액_신판_분기']+train_df['증감율_이용금액_CA_분기']+\\\n",
    "    train_df['증감율_이용금액_카드론_분기']"
   ]
  },
  {
   "cell_type": "code",
   "execution_count": 5,
   "id": "5934ae17",
   "metadata": {},
   "outputs": [],
   "source": [
    "# 합친 컬럼 만들기(test)\n",
    "test_df['증감율_이용건수_신용_분기'] = \\\n",
    "    test_df['증감율_이용건수_신판_분기']+test_df['증감율_이용건수_CA_분기']+\\\n",
    "    test_df['증감율_이용건수_카드론_분기']\n",
    "test_df['증감율_이용금액_신용_분기'] = \\\n",
    "    test_df['증감율_이용금액_신판_분기']+test_df['증감율_이용금액_CA_분기']+\\\n",
    "    test_df['증감율_이용금액_카드론_분기']"
   ]
  },
  {
   "cell_type": "code",
   "execution_count": 10,
   "id": "2c19f812",
   "metadata": {},
   "outputs": [],
   "source": [
    "# 남길 컬럼 리스트\n",
    "cols_list = ['기준년월','ID'\n",
    ",'증감율_이용건수_신용_분기'\n",
    ",'증감율_이용건수_체크_분기'\n",
    ",'증감율_이용금액_신용_분기'\n",
    ",'증감율_이용금액_체크_분기'\n",
    ",'잔액_신판최대한도소진율_r6m'\n",
    ",'변동률_잔액_B1M'\n",
    ",'변동률_잔액_일시불_B1M'\n",
    ",'혜택수혜율_R3M']"
   ]
  },
  {
   "cell_type": "code",
   "execution_count": 11,
   "id": "f18dc9b8",
   "metadata": {},
   "outputs": [],
   "source": [
    "train_8 = train_df.loc[:,cols_list]\n",
    "test_8 = test_df.loc[:,cols_list]"
   ]
  },
  {
   "cell_type": "code",
   "execution_count": 12,
   "id": "07ffdd1e",
   "metadata": {},
   "outputs": [],
   "source": [
    "train_8.to_csv('sheet8_delete.csv',index=False)\n",
    "test_8.to_csv('sheet8_test_delete.csv',index=False)"
   ]
  },
  {
   "cell_type": "code",
   "execution_count": null,
   "id": "dc9d0bba",
   "metadata": {},
   "outputs": [],
   "source": [
    "profile = train_8.profile_report()\n",
    "profile.to_file('sheet8.html')"
   ]
  }
 ],
 "metadata": {
  "kernelspec": {
   "display_name": "Python 3",
   "language": "python",
   "name": "python3"
  },
  "language_info": {
   "codemirror_mode": {
    "name": "ipython",
    "version": 3
   },
   "file_extension": ".py",
   "mimetype": "text/x-python",
   "name": "python",
   "nbconvert_exporter": "python",
   "pygments_lexer": "ipython3",
   "version": "3.11.0"
  }
 },
 "nbformat": 4,
 "nbformat_minor": 5
}
