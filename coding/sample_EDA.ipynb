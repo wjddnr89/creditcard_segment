{
 "cells": [
  {
   "cell_type": "code",
   "execution_count": 3,
   "id": "f059dddf",
   "metadata": {},
   "outputs": [],
   "source": [
    "import pandas as pd\n",
    "import numpy as np\n",
    "from glob import glob\n",
    "import os\n",
    "import seaborn as sns"
   ]
  },
  {
   "cell_type": "code",
   "execution_count": 6,
   "id": "2e226249",
   "metadata": {},
   "outputs": [
    {
     "data": {
      "text/plain": [
       "['train/7월데이터\\\\201807_train_마케팅정보.parquet',\n",
       " 'train/7월데이터\\\\201807_train_성과정보.parquet',\n",
       " 'train/7월데이터\\\\201807_train_승인매출정보.parquet',\n",
       " 'train/7월데이터\\\\201807_train_신용정보.parquet',\n",
       " 'train/7월데이터\\\\201807_train_잔액정보.parquet',\n",
       " 'train/7월데이터\\\\201807_train_채널정보.parquet',\n",
       " 'train/7월데이터\\\\201807_train_청구정보.parquet',\n",
       " 'train/7월데이터\\\\201807_train_회원정보.parquet']"
      ]
     },
     "execution_count": 6,
     "metadata": {},
     "output_type": "execute_result"
    }
   ],
   "source": [
    "# 폴더 내 모든 파일 경로 불러오기\n",
    "files = glob(\"train/7월데이터/*\")\n",
    "files"
   ]
  },
  {
   "cell_type": "code",
   "execution_count": 7,
   "id": "43442277",
   "metadata": {},
   "outputs": [
    {
     "name": "stdout",
     "output_type": "stream",
     "text": [
      "train/7월데이터\\201807_train_마케팅정보.parquet\n",
      "train/7월데이터\\201807_train_성과정보.parquet\n",
      "train/7월데이터\\201807_train_승인매출정보.parquet\n",
      "train/7월데이터\\201807_train_신용정보.parquet\n",
      "train/7월데이터\\201807_train_잔액정보.parquet\n",
      "train/7월데이터\\201807_train_채널정보.parquet\n",
      "train/7월데이터\\201807_train_청구정보.parquet\n",
      "train/7월데이터\\201807_train_회원정보.parquet\n"
     ]
    }
   ],
   "source": [
    "# 파일 경로 출력\n",
    "for file in files:\n",
    "    print(file)"
   ]
  },
  {
   "cell_type": "code",
   "execution_count": 8,
   "id": "d4b4afc5",
   "metadata": {},
   "outputs": [],
   "source": [
    "# 회원정보 폴더 내에 있는 파일들 불러와서 데이터 합치기기\n",
    "\n",
    "i=1\n",
    "for file in files:\n",
    "    # 파일 경로를 경로와 파일 이름으로 나누기 \n",
    "    file_path,file_name = os.path.split(file)\n",
    "    \n",
    "    # 파일명과 확장자 나누기\n",
    "    head, tail = os.path.splitext(file_name)\n",
    "    # print(f'{file_path}, {file_name}')\n",
    "    # print(f'{head}, {tail}')\n",
    "    \n",
    "    # 위에서 구한 파일명을 변수명으로 지정하고 파일 읽어와서 저장\n",
    "    globals()[f'df{i}'] = pd.read_parquet(file)\n",
    "    i += 1"
   ]
  },
  {
   "cell_type": "code",
   "execution_count": 13,
   "id": "66bf2d86",
   "metadata": {},
   "outputs": [
    {
     "name": "stdout",
     "output_type": "stream",
     "text": [
      "(400000, 872)\n",
      "<class 'pandas.core.frame.DataFrame'>\n"
     ]
    }
   ],
   "source": [
    "seven = pd.DataFrame()\n",
    "seven = pd.concat([seven,df1,df2,df3,df4,df5,df6,df7,df8],axis=1)\n",
    "print(seven.shape)\n",
    "print(type(seven))"
   ]
  },
  {
   "cell_type": "code",
   "execution_count": 23,
   "id": "3b643600",
   "metadata": {},
   "outputs": [],
   "source": [
    "seven.to_csv('M7_all_data.csv')"
   ]
  },
  {
   "cell_type": "code",
   "execution_count": 17,
   "id": "4f1211a1",
   "metadata": {},
   "outputs": [
    {
     "name": "stdout",
     "output_type": "stream",
     "text": [
      "Index(['기준년월', '컨택건수_카드론_TM_B0M', '컨택건수_리볼빙_TM_B0M', '컨택건수_CA_TM_B0M',\n",
      "       '컨택건수_이용유도_TM_B0M', '컨택건수_신용발급_TM_B0M', '컨택건수_부대서비스_TM_B0M',\n",
      "       '컨택건수_포인트소진_TM_B0M', '컨택건수_보험_TM_B0M', '컨택건수_카드론_LMS_B0M',\n",
      "       ...\n",
      "       '이용여부_3M_해외겸용_신용_본인', '연회비할인카드수_B0M', '기본연회비_B0M', '제휴연회비_B0M',\n",
      "       '할인금액_기본연회비_B0M', '할인금액_제휴연회비_B0M', '청구금액_기본연회비_B0M', '청구금액_제휴연회비_B0M',\n",
      "       '카드신청건수', '최종카드발급경과월'],\n",
      "      dtype='object', length=754)\n",
      "Index(['ID', '캠페인접촉건수_R12M', '캠페인접촉일수_R12M', 'ID', 'ID', '_1순위업종', '_2순위업종',\n",
      "       '_3순위업종', '_1순위쇼핑업종', '_2순위쇼핑업종', '_3순위쇼핑업종', '_1순위교통업종', '_2순위교통업종',\n",
      "       '_3순위교통업종', '_1순위여유업종', '_2순위여유업종', '_3순위여유업종', '_1순위납부업종', '_2순위납부업종',\n",
      "       '_3순위납부업종', '최종카드론_신청경로코드', '이용금액대', 'ID', '자발한도감액횟수_R12M',\n",
      "       '한도증액횟수_R12M', '카드론동의여부', 'RV전환가능여부', '한도심사요청건수', 'ID', 'ID',\n",
      "       '인입횟수_ARS_R6M', '이용메뉴건수_ARS_R6M', '방문횟수_PC_R6M', '방문일수_PC_R6M',\n",
      "       '방문횟수_앱_R6M', 'OS구분코드', 'ID', '대표결제방법코드', '대표청구지고객주소구분코드',\n",
      "       '대표청구서수령지구분코드', '청구서수령방법', '할인건수_R3M', '할인건수_B0M', 'ID', '연령',\n",
      "       'Segment', '가입통신회사코드', '거주시도명', '직장시도명', '_1순위신용체크구분', '_2순위신용체크구분',\n",
      "       '연회비발생카드수_B0M', '상품관련면제카드수_B0M', '임직원면제카드수_B0M', '우수회원면제카드수_B0M',\n",
      "       '기타면제카드수_B0M', 'Life_Stage'],\n",
      "      dtype='object')\n",
      "Index(['증감율_이용건수_신용_전월', '증감율_이용건수_신판_전월', '증감율_이용건수_일시불_전월', '증감율_이용건수_할부_전월',\n",
      "       '증감율_이용건수_CA_전월', '증감율_이용건수_체크_전월', '증감율_이용건수_카드론_전월', '증감율_이용금액_신용_전월',\n",
      "       '증감율_이용금액_신판_전월', '증감율_이용금액_일시불_전월', '증감율_이용금액_할부_전월', '증감율_이용금액_CA_전월',\n",
      "       '증감율_이용금액_체크_전월', '증감율_이용금액_카드론_전월', '증감율_이용건수_신용_분기', '증감율_이용건수_신판_분기',\n",
      "       '증감율_이용건수_일시불_분기', '증감율_이용건수_할부_분기', '증감율_이용건수_CA_분기', '증감율_이용건수_체크_분기',\n",
      "       '증감율_이용건수_카드론_분기', '증감율_이용금액_신용_분기', '증감율_이용금액_신판_분기',\n",
      "       '증감율_이용금액_일시불_분기', '증감율_이용금액_할부_분기', '증감율_이용금액_CA_분기', '증감율_이용금액_체크_분기',\n",
      "       '증감율_이용금액_카드론_분기', '잔액_신판평균한도소진율_r6m', '잔액_신판최대한도소진율_r6m',\n",
      "       '잔액_신판평균한도소진율_r3m', '잔액_신판최대한도소진율_r3m', '잔액_신판ca평균한도소진율_r6m',\n",
      "       '잔액_신판ca최대한도소진율_r6m', '잔액_신판ca평균한도소진율_r3m', '잔액_신판ca최대한도소진율_r3m',\n",
      "       '변동률_일시불평잔', '변동률_RV일시불평잔', '변동률_할부평잔', '변동률_CA평잔', '변동률_RVCA평잔',\n",
      "       '변동률_카드론평잔', '변동률_잔액_B1M', '변동률_잔액_일시불_B1M', '변동률_잔액_CA_B1M',\n",
      "       '혜택수혜율_R3M', '혜택수혜율_B0M', '최종카드론_금융상환방식코드', '최종카드론_대출이율', '최종카드론_대출일자',\n",
      "       'CA이자율_할인전', 'CL이자율_할인전', 'RV일시불이자율_할인전', 'RV현금서비스이자율_할인전', 'RV신청일자',\n",
      "       'RV약정청구율', 'RV최소결제비율', '연체일자_B0M', '최종유효년월_신용_이용가능', '최종유효년월_신용_이용',\n",
      "       '최종카드발급일자'],\n",
      "      dtype='object')\n"
     ]
    }
   ],
   "source": [
    "# 결합한 데이터에서 타입별 컬럼 확인하기 user_info.select_dtypes(include=['int64']).describe()\n",
    "\n",
    "# int64\n",
    "print(seven.select_dtypes(include=['int64']).columns)\n",
    "\n",
    "# object\n",
    "print(seven.select_dtypes(include=['object']).columns)\n",
    "\n",
    "# float64\n",
    "print(seven.select_dtypes(include=['float64']).columns)"
   ]
  }
 ],
 "metadata": {
  "kernelspec": {
   "display_name": "base_clone",
   "language": "python",
   "name": "python3"
  },
  "language_info": {
   "codemirror_mode": {
    "name": "ipython",
    "version": 3
   },
   "file_extension": ".py",
   "mimetype": "text/x-python",
   "name": "python",
   "nbconvert_exporter": "python",
   "pygments_lexer": "ipython3",
   "version": "3.12.7"
  }
 },
 "nbformat": 4,
 "nbformat_minor": 5
}
